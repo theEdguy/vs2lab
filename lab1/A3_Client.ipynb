{
 "cells": [
  {
   "cell_type": "markdown",
   "metadata": {},
   "source": [
    "# Running server and client in separate notebooks - client part\n",
    "\n",
    "Here we start the client. The server needs to be started first. Lets go...."
   ]
  },
  {
   "cell_type": "markdown",
   "metadata": {},
   "source": [
    "Lade alles aus clientserver.py (Klassen,Methoden,... damit diese hier benutzt werden können)"
   ]
  },
  {
   "cell_type": "code",
   "execution_count": 1,
   "metadata": {},
   "outputs": [],
   "source": [
    "import clientserver # import from our script"
   ]
  },
  {
   "cell_type": "markdown",
   "metadata": {},
   "source": [
    "Client instanzieren und alle Einträge abfragen:"
   ]
  },
  {
   "cell_type": "code",
   "execution_count": 2,
   "metadata": {},
   "outputs": [
    {
     "name": "stderr",
     "output_type": "stream",
     "text": [
      "2025-10-29 17:22:54,341 - vs2lab.a1_layers.clientserver.Client - INFO - Client connected to socket <socket.socket fd=78, family=2, type=1, proto=0, laddr=('127.0.0.1', 33796), raddr=('127.0.0.1', 50007)>\n",
      "2025-10-29 17:22:54,343 - vs2lab.a1_layers.clientserver.Client - INFO - Client down.\n"
     ]
    },
    {
     "name": "stdout",
     "output_type": "stream",
     "text": [
      "Alice:12345\n",
      "Bob:67890\n",
      "Charlie:54321\n"
     ]
    },
    {
     "data": {
      "text/plain": [
       "'Alice:12345\\nBob:67890\\nCharlie:54321'"
      ]
     },
     "execution_count": 2,
     "metadata": {},
     "output_type": "execute_result"
    }
   ],
   "source": [
    "client = clientserver.Client()\n",
    "client.GETALL()"
   ]
  },
  {
   "cell_type": "markdown",
   "metadata": {},
   "source": [
    "Suche nach Alice:"
   ]
  },
  {
   "cell_type": "code",
   "execution_count": 3,
   "metadata": {},
   "outputs": [
    {
     "name": "stderr",
     "output_type": "stream",
     "text": [
      "2025-10-29 17:22:54,359 - vs2lab.a1_layers.clientserver.Client - INFO - Client connected to socket <socket.socket fd=78, family=2, type=1, proto=0, laddr=('127.0.0.1', 33808), raddr=('127.0.0.1', 50007)>\n",
      "2025-10-29 17:22:54,361 - vs2lab.a1_layers.clientserver.Client - INFO - Client down.\n"
     ]
    },
    {
     "name": "stdout",
     "output_type": "stream",
     "text": [
      "Alice:12345\n",
      "\n"
     ]
    },
    {
     "data": {
      "text/plain": [
       "'Alice:12345\\n'"
      ]
     },
     "execution_count": 3,
     "metadata": {},
     "output_type": "execute_result"
    }
   ],
   "source": [
    "client = clientserver.Client() # Create a client instance\n",
    "client.call(\"GET:Alice\")"
   ]
  },
  {
   "cell_type": "code",
   "execution_count": 4,
   "metadata": {},
   "outputs": [],
   "source": [
    "import unittest\n",
    "import logging"
   ]
  },
  {
   "cell_type": "markdown",
   "metadata": {},
   "source": [
    "Starte Test in dem Bob gesucht und gefunden wird:"
   ]
  },
  {
   "cell_type": "code",
   "execution_count": 5,
   "metadata": {},
   "outputs": [
    {
     "name": "stderr",
     "output_type": "stream",
     "text": [
      "2025-10-29 17:22:54,400 - vs2lab.a1_layers.clientserver.Client - INFO - Client connected to socket <socket.socket fd=79, family=2, type=1, proto=0, laddr=('127.0.0.1', 33818), raddr=('127.0.0.1', 50007)>\n",
      "INFO:vs2lab.a1_layers.clientserver.Client:Client connected to socket <socket.socket fd=79, family=2, type=1, proto=0, laddr=('127.0.0.1', 33818), raddr=('127.0.0.1', 50007)>\n",
      "2025-10-29 17:22:54,402 - vs2lab.a1_layers.clientserver.Client - INFO - Client down.\n",
      "INFO:vs2lab.a1_layers.clientserver.Client:Client down.\n",
      ".\n",
      "----------------------------------------------------------------------\n",
      "Ran 1 test in 0.004s\n",
      "\n",
      "OK\n"
     ]
    },
    {
     "name": "stdout",
     "output_type": "stream",
     "text": [
      "Bob:67890\n"
     ]
    },
    {
     "data": {
      "text/plain": [
       "<unittest.main.TestProgram at 0x7eaece4d3cd0>"
      ]
     },
     "execution_count": 5,
     "metadata": {},
     "output_type": "execute_result"
    }
   ],
   "source": [
    "class Test01(unittest.TestCase):\n",
    "    def test_1(self):\n",
    "        logging.info(\"Starte test_01_get_success\")\n",
    "        client = clientserver.Client() # Neuer Client für jeden Test\n",
    "        result = client.GET(\"Bob\")\n",
    "        self.assertEqual(result, \"Bob:67890\")\n",
    "\n",
    "unittest.main(argv=[''], exit=False)"
   ]
  },
  {
   "cell_type": "markdown",
   "metadata": {},
   "source": [
    "Starte Test in dem nach einem David gesucht wird, der jedoch nicht existiert:"
   ]
  },
  {
   "cell_type": "code",
   "execution_count": 6,
   "metadata": {},
   "outputs": [
    {
     "name": "stderr",
     "output_type": "stream",
     "text": [
      "2025-10-29 17:22:54,413 - vs2lab.a1_layers.clientserver.Client - INFO - Client connected to socket <socket.socket fd=79, family=2, type=1, proto=0, laddr=('127.0.0.1', 33828), raddr=('127.0.0.1', 50007)>\n",
      "INFO:vs2lab.a1_layers.clientserver.Client:Client connected to socket <socket.socket fd=79, family=2, type=1, proto=0, laddr=('127.0.0.1', 33828), raddr=('127.0.0.1', 50007)>\n",
      "2025-10-29 17:22:54,415 - vs2lab.a1_layers.clientserver.Client - INFO - Client down.\n",
      "INFO:vs2lab.a1_layers.clientserver.Client:Client down.\n",
      ".2025-10-29 17:22:54,418 - vs2lab.a1_layers.clientserver.Client - INFO - Client connected to socket <socket.socket fd=79, family=2, type=1, proto=0, laddr=('127.0.0.1', 33836), raddr=('127.0.0.1', 50007)>\n",
      "INFO:vs2lab.a1_layers.clientserver.Client:Client connected to socket <socket.socket fd=79, family=2, type=1, proto=0, laddr=('127.0.0.1', 33836), raddr=('127.0.0.1', 50007)>\n",
      "2025-10-29 17:22:54,419 - vs2lab.a1_layers.clientserver.Client - INFO - Client down.\n",
      "INFO:vs2lab.a1_layers.clientserver.Client:Client down.\n",
      ".\n",
      "----------------------------------------------------------------------\n",
      "Ran 2 tests in 0.008s\n",
      "\n",
      "OK\n"
     ]
    },
    {
     "name": "stdout",
     "output_type": "stream",
     "text": [
      "Bob:67890\n",
      "ERROR:WrongName\n"
     ]
    },
    {
     "data": {
      "text/plain": [
       "<unittest.main.TestProgram at 0x7eaece360e50>"
      ]
     },
     "execution_count": 6,
     "metadata": {},
     "output_type": "execute_result"
    }
   ],
   "source": [
    "class Test02(unittest.TestCase):\n",
    "    def test_02_get_fail(self):\n",
    "        \"\"\" Testet eine fehlschlagende GET-Anfrage (falscher Name) \"\"\"\n",
    "        logging.info(\"Starte test_02_get_fail\")\n",
    "        client = clientserver.Client()\n",
    "        result = client.GET(\"David\")\n",
    "        self.assertEqual(result, \"ERROR:WrongName\")\n",
    "unittest.main(argv=[''], exit=False)"
   ]
  },
  {
   "cell_type": "markdown",
   "metadata": {},
   "source": [
    "Starte Test, in dem alle Einträge abgefragt werden:"
   ]
  },
  {
   "cell_type": "code",
   "execution_count": 7,
   "metadata": {},
   "outputs": [
    {
     "name": "stderr",
     "output_type": "stream",
     "text": [
      "2025-10-29 17:22:54,431 - vs2lab.a1_layers.clientserver.Client - INFO - Client connected to socket <socket.socket fd=79, family=2, type=1, proto=0, laddr=('127.0.0.1', 33850), raddr=('127.0.0.1', 50007)>\n",
      "INFO:vs2lab.a1_layers.clientserver.Client:Client connected to socket <socket.socket fd=79, family=2, type=1, proto=0, laddr=('127.0.0.1', 33850), raddr=('127.0.0.1', 50007)>\n",
      "2025-10-29 17:22:54,433 - vs2lab.a1_layers.clientserver.Client - INFO - Client down.\n",
      "INFO:vs2lab.a1_layers.clientserver.Client:Client down.\n",
      ".2025-10-29 17:22:54,434 - vs2lab.a1_layers.clientserver.Client - INFO - Client connected to socket <socket.socket fd=79, family=2, type=1, proto=0, laddr=('127.0.0.1', 33860), raddr=('127.0.0.1', 50007)>\n",
      "INFO:vs2lab.a1_layers.clientserver.Client:Client connected to socket <socket.socket fd=79, family=2, type=1, proto=0, laddr=('127.0.0.1', 33860), raddr=('127.0.0.1', 50007)>\n",
      "2025-10-29 17:22:54,436 - vs2lab.a1_layers.clientserver.Client - INFO - Client down.\n",
      "INFO:vs2lab.a1_layers.clientserver.Client:Client down.\n",
      ".\n",
      "----------------------------------------------------------------------\n",
      "Ran 2 tests in 0.006s\n",
      "\n",
      "OK\n"
     ]
    },
    {
     "name": "stdout",
     "output_type": "stream",
     "text": [
      "Bob:67890\n",
      "Alice:12345\n",
      "Bob:67890\n",
      "Charlie:54321\n"
     ]
    },
    {
     "data": {
      "text/plain": [
       "<unittest.main.TestProgram at 0x7eaece326650>"
      ]
     },
     "execution_count": 7,
     "metadata": {},
     "output_type": "execute_result"
    }
   ],
   "source": [
    "class Test02(unittest.TestCase):\n",
    "    def test_03_get_all(self):\n",
    "        \"\"\" Testet die GETALL-Anfrage \"\"\"\n",
    "        logging.info(\"Starte test_03_get_all\")\n",
    "        client = clientserver.Client()\n",
    "        result = client.GETALL()\n",
    "        # Prüfen, ob alle Namen aus dem Telefonbuch in der Antwort enthalten sind\n",
    "        self.assertIn(\"Alice:12345\", result)\n",
    "        self.assertIn(\"Bob:67890\", result)\n",
    "        self.assertIn(\"Charlie:54321\", result)       \n",
    "unittest.main(argv=[''], exit=False)"
   ]
  },
  {
   "cell_type": "markdown",
   "metadata": {},
   "source": [
    "Starte Test, in dem ein Unknown Command erkannt wird:"
   ]
  },
  {
   "cell_type": "code",
   "execution_count": 8,
   "metadata": {},
   "outputs": [
    {
     "name": "stderr",
     "output_type": "stream",
     "text": [
      "2025-10-29 17:22:54,447 - vs2lab.a1_layers.clientserver.Client - INFO - Client connected to socket <socket.socket fd=79, family=2, type=1, proto=0, laddr=('127.0.0.1', 33868), raddr=('127.0.0.1', 50007)>\n",
      "INFO:vs2lab.a1_layers.clientserver.Client:Client connected to socket <socket.socket fd=79, family=2, type=1, proto=0, laddr=('127.0.0.1', 33868), raddr=('127.0.0.1', 50007)>\n",
      "2025-10-29 17:22:54,449 - vs2lab.a1_layers.clientserver.Client - INFO - Client down.\n",
      "INFO:vs2lab.a1_layers.clientserver.Client:Client down.\n",
      ".2025-10-29 17:22:54,450 - vs2lab.a1_layers.clientserver.Client - INFO - Client connected to socket <socket.socket fd=79, family=2, type=1, proto=0, laddr=('127.0.0.1', 33876), raddr=('127.0.0.1', 50007)>\n",
      "INFO:vs2lab.a1_layers.clientserver.Client:Client connected to socket <socket.socket fd=79, family=2, type=1, proto=0, laddr=('127.0.0.1', 33876), raddr=('127.0.0.1', 50007)>\n",
      ".\n",
      "----------------------------------------------------------------------\n",
      "Ran 2 tests in 0.005s\n",
      "\n",
      "OK\n"
     ]
    },
    {
     "name": "stdout",
     "output_type": "stream",
     "text": [
      "Bob:67890\n"
     ]
    },
    {
     "data": {
      "text/plain": [
       "<unittest.main.TestProgram at 0x7eaece3774d0>"
      ]
     },
     "execution_count": 8,
     "metadata": {},
     "output_type": "execute_result"
    }
   ],
   "source": [
    "class Test02(unittest.TestCase):\n",
    "    def test_04_unknown_command(self):\n",
    "        \"\"\" Testet ein unbekanntes Kommando \"\"\"\n",
    "        logging.info(\"Starte test_04_unknown_command\")\n",
    "        client = clientserver.Client()\n",
    "        # Wir müssen die API umgehen, um ein ungültiges Kommando zu senden\n",
    "        client.sock.send(b\"DELETE:Alice\") \n",
    "        data = client.sock.recv(1024)\n",
    "        result = data.decode('ascii').strip()\n",
    "        client.close()\n",
    "        self.assertEqual(result, \"ERROR:UnknownCommand\")\n",
    "unittest.main(argv=[''], exit=False)"
   ]
  },
  {
   "cell_type": "markdown",
   "metadata": {},
   "source": [
    "Finished."
   ]
  }
 ],
 "metadata": {
  "kernelspec": {
   "display_name": "vs2lab-uWc7IIUF",
   "language": "python",
   "name": "python3"
  },
  "language_info": {
   "codemirror_mode": {
    "name": "ipython",
    "version": 3
   },
   "file_extension": ".py",
   "mimetype": "text/x-python",
   "name": "python",
   "nbconvert_exporter": "python",
   "pygments_lexer": "ipython3",
   "version": "3.11.4"
  }
 },
 "nbformat": 4,
 "nbformat_minor": 4
}
