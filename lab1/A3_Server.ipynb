{
 "cells": [
  {
   "cell_type": "markdown",
   "metadata": {},
   "source": [
    "# Running server and client in separate notebooks - server part\n"
   ]
  },
  {
   "cell_type": "markdown",
   "metadata": {},
   "source": [
    "Instanziere den Server und starte ihn, er wartet nun darauf, kontaktiert zu werden:\n",
    "(Server muss vor Kommunikationsversuchen gestartet werden)"
   ]
  },
  {
   "cell_type": "code",
   "execution_count": 1,
   "metadata": {},
   "outputs": [
    {
     "name": "stderr",
     "output_type": "stream",
     "text": [
      "2025-10-29 17:22:51,073 - vs2lab.lab1.clientserver.Server - INFO - Server bound to socket <socket.socket fd=78, family=2, type=1, proto=0, laddr=('127.0.0.1', 50007)>\n",
      "2025-10-29 17:22:54,341 - vs2lab.lab1.clientserver.Server - INFO - Connected by ('127.0.0.1', 33796)\n",
      "2025-10-29 17:22:54,359 - vs2lab.lab1.clientserver.Server - INFO - Connected by ('127.0.0.1', 33808)\n",
      "2025-10-29 17:22:54,400 - vs2lab.lab1.clientserver.Server - INFO - Connected by ('127.0.0.1', 33818)\n",
      "2025-10-29 17:22:54,413 - vs2lab.lab1.clientserver.Server - INFO - Connected by ('127.0.0.1', 33828)\n",
      "2025-10-29 17:22:54,418 - vs2lab.lab1.clientserver.Server - INFO - Connected by ('127.0.0.1', 33836)\n",
      "2025-10-29 17:22:54,431 - vs2lab.lab1.clientserver.Server - INFO - Connected by ('127.0.0.1', 33850)\n",
      "2025-10-29 17:22:54,435 - vs2lab.lab1.clientserver.Server - INFO - Connected by ('127.0.0.1', 33860)\n",
      "2025-10-29 17:22:54,447 - vs2lab.lab1.clientserver.Server - INFO - Connected by ('127.0.0.1', 33868)\n",
      "2025-10-29 17:22:54,450 - vs2lab.lab1.clientserver.Server - INFO - Connected by ('127.0.0.1', 33876)\n"
     ]
    },
    {
     "ename": "OSError",
     "evalue": "[Errno 9] Bad file descriptor",
     "output_type": "error",
     "traceback": [
      "\u001b[31m---------------------------------------------------------------------------\u001b[39m",
      "\u001b[31mOSError\u001b[39m                                   Traceback (most recent call last)",
      "\u001b[36mCell\u001b[39m\u001b[36m \u001b[39m\u001b[32mIn[1]\u001b[39m\u001b[32m, line 5\u001b[39m\n\u001b[32m      1\u001b[39m \u001b[38;5;28;01mimport\u001b[39;00m\u001b[38;5;250m \u001b[39m\u001b[34;01mclientserver\u001b[39;00m \u001b[38;5;66;03m# import from our script\u001b[39;00m\n\u001b[32m      3\u001b[39m server = clientserver.Server() \u001b[38;5;66;03m# Create a server instance\u001b[39;00m\n\u001b[32m----> \u001b[39m\u001b[32m5\u001b[39m \u001b[43mserver\u001b[49m\u001b[43m.\u001b[49m\u001b[43mserve\u001b[49m\u001b[43m(\u001b[49m\u001b[43m)\u001b[49m \u001b[38;5;66;03m# start server routine in the forked process\u001b[39;00m\n",
      "\u001b[36mFile \u001b[39m\u001b[32m/workspaces/vs2lab/lab1/clientserver.py:41\u001b[39m, in \u001b[36mServer.serve\u001b[39m\u001b[34m(self)\u001b[39m\n\u001b[32m     39\u001b[39m \u001b[38;5;28mself\u001b[39m._logger.info(\u001b[33mf\u001b[39m\u001b[33m\"\u001b[39m\u001b[33mConnected by \u001b[39m\u001b[38;5;132;01m{\u001b[39;00maddress\u001b[38;5;132;01m}\u001b[39;00m\u001b[33m\"\u001b[39m)\n\u001b[32m     40\u001b[39m \u001b[38;5;28;01mwhile\u001b[39;00m \u001b[38;5;28;01mTrue\u001b[39;00m:  \u001b[38;5;66;03m# forever\u001b[39;00m\n\u001b[32m---> \u001b[39m\u001b[32m41\u001b[39m     data = \u001b[43mconnection\u001b[49m\u001b[43m.\u001b[49m\u001b[43mrecv\u001b[49m\u001b[43m(\u001b[49m\u001b[32;43m1024\u001b[39;49m\u001b[43m)\u001b[49m  \u001b[38;5;66;03m# receive data from client\u001b[39;00m\n\u001b[32m     42\u001b[39m     \u001b[38;5;28;01mif\u001b[39;00m \u001b[38;5;129;01mnot\u001b[39;00m data:\n\u001b[32m     43\u001b[39m         \u001b[38;5;28;01mbreak\u001b[39;00m  \u001b[38;5;66;03m# stop if client stopped\u001b[39;00m\n",
      "\u001b[31mOSError\u001b[39m: [Errno 9] Bad file descriptor"
     ]
    }
   ],
   "source": [
    "import clientserver # import from our script\n",
    "\n",
    "server = clientserver.Server() # Create a server instance\n",
    "\n",
    "server.serve() # start server routine in the forked process"
   ]
  },
  {
   "cell_type": "markdown",
   "metadata": {},
   "source": [
    "Schließe den Server:"
   ]
  },
  {
   "cell_type": "code",
   "execution_count": null,
   "metadata": {},
   "outputs": [],
   "source": [
    "server.close()"
   ]
  },
  {
   "cell_type": "markdown",
   "metadata": {},
   "source": [
    "Finished"
   ]
  }
 ],
 "metadata": {
  "kernelspec": {
   "display_name": "vs2lab-uWc7IIUF",
   "language": "python",
   "name": "python3"
  },
  "language_info": {
   "codemirror_mode": {
    "name": "ipython",
    "version": 3
   },
   "file_extension": ".py",
   "mimetype": "text/x-python",
   "name": "python",
   "nbconvert_exporter": "python",
   "pygments_lexer": "ipython3",
   "version": "3.11.4"
  }
 },
 "nbformat": 4,
 "nbformat_minor": 4
}
